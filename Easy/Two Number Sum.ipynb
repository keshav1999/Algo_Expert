{
 "cells": [
  {
   "cell_type": "markdown",
   "metadata": {},
   "source": [
    "# Two Number Sum"
   ]
  },
  {
   "cell_type": "markdown",
   "metadata": {},
   "source": [
    "### 1st solution"
   ]
  },
  {
   "cell_type": "code",
   "execution_count": 7,
   "metadata": {},
   "outputs": [],
   "source": [
    "# Time complexity is O(N)\n",
    "# Space Complexity is O(N)"
   ]
  },
  {
   "cell_type": "code",
   "execution_count": 8,
   "metadata": {},
   "outputs": [
    {
     "name": "stdout",
     "output_type": "stream",
     "text": [
      "-1 11\n",
      "0.0009975433349609375\n"
     ]
    }
   ],
   "source": [
    "import time\n",
    "tik = time.time()\n",
    "li = [3,5,-4,8,11,1,-1,6]\n",
    "num =10\n",
    "dic = {}\n",
    "for i in li:\n",
    "    dic[i]=0\n",
    "x = False\n",
    "for i in li:\n",
    "    if num-i in dic and num-i!=i:\n",
    "        x=True\n",
    "        print(num-i,i)\n",
    "        break\n",
    "tok = time.time()\n",
    "print(tok-tik)"
   ]
  },
  {
   "cell_type": "markdown",
   "metadata": {},
   "source": [
    "### 2nd Solution"
   ]
  },
  {
   "cell_type": "code",
   "execution_count": 9,
   "metadata": {},
   "outputs": [],
   "source": [
    "# Time Complexity is O(N^2)\n",
    "# Space Compexity is O(1)"
   ]
  },
  {
   "cell_type": "code",
   "execution_count": 12,
   "metadata": {},
   "outputs": [
    {
     "name": "stdout",
     "output_type": "stream",
     "text": [
      "-1 11\n",
      "0.0\n"
     ]
    }
   ],
   "source": [
    "tik = time.time()\n",
    "li = [3,5,-4,8,11,1,-1,6]\n",
    "num =10\n",
    "flag = False\n",
    "for i in range(len(li)-1):\n",
    "    n = li[i]\n",
    "    if flag==True:\n",
    "        break\n",
    "    for j in range(i+1,len(li)):\n",
    "        m = li[j]\n",
    "        if m+n==num:\n",
    "            flag=True\n",
    "            print(m,n)\n",
    "            break\n",
    "tok = time.time()\n",
    "print(tok-tik)"
   ]
  },
  {
   "cell_type": "markdown",
   "metadata": {},
   "source": [
    "### 3rd Solution"
   ]
  },
  {
   "cell_type": "code",
   "execution_count": 13,
   "metadata": {},
   "outputs": [],
   "source": [
    "# Time complexity is O(Nlog(N))\n",
    "# Space complexity is O(1)"
   ]
  },
  {
   "cell_type": "code",
   "execution_count": 20,
   "metadata": {},
   "outputs": [
    {
     "name": "stdout",
     "output_type": "stream",
     "text": [
      "-1 11\n",
      "0.0009953975677490234\n"
     ]
    }
   ],
   "source": [
    "tik = time.time()\n",
    "li = [3,5,-4,8,11,1,-1,6]\n",
    "num =10\n",
    "li.sort()\n",
    "left=0\n",
    "right = len(li)-1\n",
    "while left<right:\n",
    "    currentsum=li[left]+li[right]\n",
    "    if currentsum==num:\n",
    "        print(li[left],li[right])\n",
    "        break\n",
    "    elif currentsum<num:\n",
    "        left+=1\n",
    "    else:\n",
    "        right-=1\n",
    "tok = time.time()\n",
    "print(tok-tik)"
   ]
  },
  {
   "cell_type": "code",
   "execution_count": 16,
   "metadata": {},
   "outputs": [
    {
     "data": {
      "text/plain": [
       "[-4, -1, 1, 3, 5, 6, 8, 11]"
      ]
     },
     "execution_count": 16,
     "metadata": {},
     "output_type": "execute_result"
    }
   ],
   "source": []
  },
  {
   "cell_type": "code",
   "execution_count": null,
   "metadata": {},
   "outputs": [],
   "source": []
  }
 ],
 "metadata": {
  "kernelspec": {
   "display_name": "Python 3",
   "language": "python",
   "name": "python3"
  },
  "language_info": {
   "codemirror_mode": {
    "name": "ipython",
    "version": 3
   },
   "file_extension": ".py",
   "mimetype": "text/x-python",
   "name": "python",
   "nbconvert_exporter": "python",
   "pygments_lexer": "ipython3",
   "version": "3.6.5"
  }
 },
 "nbformat": 4,
 "nbformat_minor": 2
}
